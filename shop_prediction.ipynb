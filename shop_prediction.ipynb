{
  "nbformat": 4,
  "nbformat_minor": 0,
  "metadata": {
    "colab": {
      "name": "shop_prediction.ipynb",
      "provenance": [],
      "collapsed_sections": [
        "uAVmvDvZlnnI",
        "XIhX7-0sl0dz",
        "g9hI2GGrHomL",
        "Dn7ztR7fl_Jz",
        "u0PnB0VzNMD-",
        "HE0AZOwV8cmd",
        "xeQG-GyLNd_l",
        "DZQhdcO7majD",
        "KfzB0oYxD5MT"
      ]
    },
    "kernelspec": {
      "name": "python3",
      "display_name": "Python 3"
    }
  },
  "cells": [
    {
      "cell_type": "code",
      "metadata": {
        "id": "V4qi_Se_ccrK",
        "colab": {
          "base_uri": "https://localhost:8080/",
          "height": 129
        },
        "outputId": "42d8e5fa-d980-4d44-f4e4-4d61303ccc6c"
      },
      "source": [
        "import pandas as pd\n",
        "import numpy as np\n",
        "import seaborn as sns\n",
        "import matplotlib.pyplot as plt\n",
        "from google.colab import drive\n",
        "from datetime import datetime, timedelta\n",
        "\n",
        "drive.mount('/content/drive')\n",
        "shop = pd.read_csv('/content/drive/My Drive/31-M29/training.csv')\n",
        "shop_to_predict = pd.read_csv('/content/drive/My Drive/31-M29/test.csv')"
      ],
      "execution_count": null,
      "outputs": [
        {
          "output_type": "stream",
          "text": [
            "Go to this URL in a browser: https://accounts.google.com/o/oauth2/auth?client_id=947318989803-6bn6qk8qdgf4n4g3pfee6491hc0brc4i.apps.googleusercontent.com&redirect_uri=urn%3aietf%3awg%3aoauth%3a2.0%3aoob&response_type=code&scope=email%20https%3a%2f%2fwww.googleapis.com%2fauth%2fdocs.test%20https%3a%2f%2fwww.googleapis.com%2fauth%2fdrive%20https%3a%2f%2fwww.googleapis.com%2fauth%2fdrive.photos.readonly%20https%3a%2f%2fwww.googleapis.com%2fauth%2fpeopleapi.readonly\n",
            "\n",
            "Enter your authorization code:\n",
            "··········\n",
            "Mounted at /content/drive\n"
          ],
          "name": "stdout"
        }
      ]
    },
    {
      "cell_type": "code",
      "metadata": {
        "id": "RZl5qh8Xc_NI",
        "colab": {
          "base_uri": "https://localhost:8080/",
          "height": 143
        },
        "outputId": "27d10c6e-fbed-4096-91e5-5fd47fda5d86"
      },
      "source": [
        "shop.head(3)"
      ],
      "execution_count": null,
      "outputs": [
        {
          "output_type": "execute_result",
          "data": {
            "text/html": [
              "<div>\n",
              "<style scoped>\n",
              "    .dataframe tbody tr th:only-of-type {\n",
              "        vertical-align: middle;\n",
              "    }\n",
              "\n",
              "    .dataframe tbody tr th {\n",
              "        vertical-align: top;\n",
              "    }\n",
              "\n",
              "    .dataframe thead th {\n",
              "        text-align: right;\n",
              "    }\n",
              "</style>\n",
              "<table border=\"1\" class=\"dataframe\">\n",
              "  <thead>\n",
              "    <tr style=\"text-align: right;\">\n",
              "      <th></th>\n",
              "      <th>Id</th>\n",
              "      <th>itemID</th>\n",
              "      <th>size</th>\n",
              "      <th>color</th>\n",
              "      <th>manufacturerID</th>\n",
              "      <th>price</th>\n",
              "      <th>salutation</th>\n",
              "      <th>dateOfBirth</th>\n",
              "      <th>state</th>\n",
              "      <th>returnShipment</th>\n",
              "      <th>DeliveryDuration</th>\n",
              "    </tr>\n",
              "  </thead>\n",
              "  <tbody>\n",
              "    <tr>\n",
              "      <th>0</th>\n",
              "      <td>0</td>\n",
              "      <td>2985</td>\n",
              "      <td>38</td>\n",
              "      <td>green</td>\n",
              "      <td>21</td>\n",
              "      <td>39.98</td>\n",
              "      <td>Mrs</td>\n",
              "      <td>1967-01-30</td>\n",
              "      <td>North Rhine-Westphalia</td>\n",
              "      <td>0</td>\n",
              "      <td>1 days 00:00:00.000000000</td>\n",
              "    </tr>\n",
              "    <tr>\n",
              "      <th>1</th>\n",
              "      <td>1</td>\n",
              "      <td>2408</td>\n",
              "      <td>36</td>\n",
              "      <td>black</td>\n",
              "      <td>3</td>\n",
              "      <td>69.95</td>\n",
              "      <td>Mr</td>\n",
              "      <td>?</td>\n",
              "      <td>Berlin</td>\n",
              "      <td>0</td>\n",
              "      <td>NaN</td>\n",
              "    </tr>\n",
              "    <tr>\n",
              "      <th>2</th>\n",
              "      <td>2</td>\n",
              "      <td>134</td>\n",
              "      <td>xxl</td>\n",
              "      <td>blue</td>\n",
              "      <td>32</td>\n",
              "      <td>14.90</td>\n",
              "      <td>Mrs</td>\n",
              "      <td>1971-05-08</td>\n",
              "      <td>Bavaria</td>\n",
              "      <td>1</td>\n",
              "      <td>2 days 00:00:00.000000000</td>\n",
              "    </tr>\n",
              "  </tbody>\n",
              "</table>\n",
              "</div>"
            ],
            "text/plain": [
              "   Id  itemID  ... returnShipment           DeliveryDuration\n",
              "0   0    2985  ...              0  1 days 00:00:00.000000000\n",
              "1   1    2408  ...              0                        NaN\n",
              "2   2     134  ...              1  2 days 00:00:00.000000000\n",
              "\n",
              "[3 rows x 11 columns]"
            ]
          },
          "metadata": {
            "tags": []
          },
          "execution_count": 2
        }
      ]
    },
    {
      "cell_type": "markdown",
      "metadata": {
        "id": "uAVmvDvZlnnI"
      },
      "source": [
        "### Delivery duration\n",
        "\n",
        "Convert delivery duration to integer to only have number of days.\n",
        "How long an item is being deliverd if at all can influence returnShipment because some customers might not bother shipping back after a long time and if an item has not arrived, it won't be sent back."
      ]
    },
    {
      "cell_type": "code",
      "metadata": {
        "id": "qbtSiBFYy4XQ"
      },
      "source": [
        "shop['DeliveryDuration'] = shop['DeliveryDuration'].fillna('0 ')\n",
        "shop['duration_days'] = shop['DeliveryDuration'].str.split(' ').str[0].astype(int)"
      ],
      "execution_count": null,
      "outputs": []
    },
    {
      "cell_type": "code",
      "metadata": {
        "id": "jVkWSUgEyfxM"
      },
      "source": [
        "#shop['duration_days'].min() #-8156\n",
        "#shop.loc[shop['duration_days'] <0, 'duration_days'] = shop['duration_days'] + 8156  # doesn't help the model thus left uncleaned"
      ],
      "execution_count": null,
      "outputs": []
    },
    {
      "cell_type": "markdown",
      "metadata": {
        "id": "XIhX7-0sl0dz"
      },
      "source": [
        "### Salary and  price relative to salary\n",
        "The price in proportion to the salary might say more than the price itself as each state as well as the genders earn a different amount of money (Company, Family, Not reported are treated as men here) and therefore a certain price might be more worth for one customer than for another.\n",
        "Salaries are taken from https://www.gehaltsrechner.de/gehaelter/ . 'Relative price' is the percentage of a salary that a price takes."
      ]
    },
    {
      "cell_type": "code",
      "metadata": {
        "id": "5XXVzJtbcG5-"
      },
      "source": [
        "shop['salary'] = 0\n",
        "shop.loc[(shop['state'] == 'North Rhine-Westphalia' ) &((shop['salutation'] == 'Mr') | (shop['salutation'] == 'Family')| (shop['salutation'] == 'Company') | (shop['salutation'] == 'not reported')),'salary'] =  2998\n",
        "shop.loc[(shop['state'] == 'North Rhine-Westphalia' ) &(shop['salutation'] == 'Mrs'),'salary'] = 2160\n",
        "shop.loc[(shop['state'] == 'Berlin' ) &((shop['salutation'] == 'Mr') | (shop['salutation'] == 'Family')| (shop['salutation'] == 'Company') | (shop['salutation'] == 'not reported')),'salary'] = 2821\n",
        "shop.loc[(shop['state'] == 'Berlin' ) &(shop['salutation'] == 'Mrs'),'salary'] = 2164\n",
        "shop.loc[(shop['state'] == 'Bavaria' ) &((shop['salutation'] == 'Mr') | (shop['salutation'] == 'Family')| (shop['salutation'] == 'Company') | (shop['salutation'] == 'not reported')),'salary'] = 3165\n",
        "shop.loc[(shop['state'] == 'Bavaria' ) &(shop['salutation'] == 'Mrs'),'salary'] = 2269\n",
        "shop.loc[(shop['state'] == 'Schleswig-Holstein' ) &((shop['salutation'] == 'Mr') | (shop['salutation'] == 'Family')| (shop['salutation'] == 'Company') | (shop['salutation'] == 'not reported')),'salary'] = 2650\n",
        "shop.loc[(shop['state'] == 'Schleswig-Holstein' ) &(shop['salutation'] == 'Mrs'),'salary'] = 1933\n",
        "shop.loc[(shop['state'] == 'Hamburg' ) &((shop['salutation'] == 'Mr') | (shop['salutation'] == 'Family')| (shop['salutation'] == 'Company') | (shop['salutation'] == 'not reported')),'salary'] = 3227\n",
        "shop.loc[(shop['state'] == 'Hamburg' ) &(shop['salutation'] == 'Mrs'),'salary'] = 3227\n",
        "shop.loc[(shop['state'] == 'Lower Saxony' ) &((shop['salutation'] == 'Mr') | (shop['salutation'] == 'Family')| (shop['salutation'] == 'Company') | (shop['salutation'] == 'not reported')),'salary'] = 2725\n",
        "shop.loc[(shop['state'] == 'Lower Saxony' ) &(shop['salutation'] == 'Mrs'),'salary'] = 1886\n",
        "shop.loc[(shop['state'] == 'Rhineland-Palatinate' ) &((shop['salutation'] == 'Mr') | (shop['salutation'] == 'Family')| (shop['salutation'] == 'Company') | (shop['salutation'] == 'not reported')),'salary'] = 2795\n",
        "shop.loc[(shop['state'] == 'Rhineland-Palatinate' ) &(shop['salutation'] == 'Mrs'),'salary'] = 1966\n",
        "shop.loc[(shop['state'] == 'Saxony' ) &((shop['salutation'] == 'Mr') | (shop['salutation'] == 'Family')| (shop['salutation'] == 'Company') | (shop['salutation'] == 'not reported')),'salary'] = 2308\n",
        "shop.loc[(shop['state'] == 'Saxony' ) &(shop['salutation'] == 'Mrs'),'salary'] = 1707\n",
        "shop.loc[(shop['state'] == 'Hesse' ) &((shop['salutation'] == 'Mr') | (shop['salutation'] == 'Family')| (shop['salutation'] == 'Company') | (shop['salutation'] == 'not reported')),'salary'] = 3248\n",
        "shop.loc[(shop['state'] == 'Hesse' ) &(shop['salutation'] == 'Mrs'),'salary'] = 2355\n",
        "shop.loc[(shop['state'] == 'Mecklenburg-Western Pomerania' ) &((shop['salutation'] == 'Mr') | (shop['salutation'] == 'Family')| (shop['salutation'] == 'Company') | (shop['salutation'] == 'not reported')),'salary'] = 2187\n",
        "shop.loc[(shop['state'] == 'Mecklenburg-Western Pomerania' ) &(shop['salutation'] == 'Mrs'),'salary'] = 1636\n",
        "shop.loc[(shop['state'] == 'Baden-Wuerttemberg' ) &((shop['salutation'] == 'Mr') | (shop['salutation'] == 'Family')| (shop['salutation'] == 'Company') | (shop['salutation'] == 'not reported')),'salary'] = 3244\n",
        "shop.loc[(shop['state'] == 'Baden-Wuerttemberg' ) &(shop['salutation'] == 'Mrs'),'salary'] = 2269\n",
        "shop.loc[(shop['state'] == 'Thuringia' ) &((shop['salutation'] == 'Mr') | (shop['salutation'] == 'Family')| (shop['salutation'] == 'Company') | (shop['salutation'] == 'not reported')),'salary'] = 2307\n",
        "shop.loc[(shop['state'] == 'Thuringia' ) &(shop['salutation'] == 'Mrs'),'salary'] = 1731\n",
        "shop.loc[(shop['state'] == 'Saxony-Anhalt' ) &((shop['salutation'] == 'Mr') | (shop['salutation'] == 'Family')| (shop['salutation'] == 'Company') | (shop['salutation'] == 'not reported')),'salary'] = 2286\n",
        "shop.loc[(shop['state'] == 'Saxony-Anhalt' ) &(shop['salutation'] == 'Mrs'),'salary'] = 1695\n",
        "shop.loc[(shop['state'] == 'Bremen' ) &((shop['salutation'] == 'Mr') | (shop['salutation'] == 'Family')| (shop['salutation'] == 'Company') | (shop['salutation'] == 'not reported')),'salary'] = 2964\n",
        "shop.loc[(shop['state'] == 'Bremen' ) &(shop['salutation'] == 'Mrs'),'salary'] = 2080\n",
        "shop.loc[(shop['state'] == 'Brandenburg' ) &((shop['salutation'] == 'Mr') | (shop['salutation'] == 'Family')| (shop['salutation'] == 'Company') | (shop['salutation'] == 'not reported')),'salary'] = 2224\n",
        "shop.loc[(shop['state'] == 'Brandenburg' ) &(shop['salutation'] == 'Mrs'),'salary'] = 1713\n",
        "shop.loc[(shop['state'] == 'Saarland' ) &((shop['salutation'] == 'Mr') | (shop['salutation'] == 'Family')| (shop['salutation'] == 'Company') | (shop['salutation'] == 'not reported')),'salary'] = 2869\n",
        "shop.loc[(shop['state'] == 'Saarland' ) &(shop['salutation'] == 'Mrs'),'salary'] = 1924"
      ],
      "execution_count": null,
      "outputs": []
    },
    {
      "cell_type": "code",
      "metadata": {
        "id": "fxJtYHqUmPzI"
      },
      "source": [
        "shop['relative_price'] = shop['price']*100 / shop['salary']"
      ],
      "execution_count": null,
      "outputs": []
    },
    {
      "cell_type": "markdown",
      "metadata": {
        "id": "g9hI2GGrHomL"
      },
      "source": [
        "### Age\n",
        "Customers of different ages have different buying behaviour thus age (at this point in time, not buying) might play a role in their decision wheather to return an item or not. Current date - birth date. \n",
        "\n",
        "Outliers are not cleaned to not loose prediction accuracy."
      ]
    },
    {
      "cell_type": "code",
      "metadata": {
        "id": "6OEKHGZDA0JY"
      },
      "source": [
        "shop = shop[shop['dateOfBirth'] != '?']\n",
        "shop['dateOfBirth'] = pd.to_datetime(shop['dateOfBirth'], format='%Y-%m-%d'  , errors='coerce')\n",
        "shop['dateOfBirth'] = shop['dateOfBirth'].fillna(method='ffill')\n",
        "\n",
        "shop['Age'] = (pd.to_datetime('today') - shop['dateOfBirth']).astype('<m8[Y]')\n",
        "shop['Age'] = shop['Age'].astype(int)"
      ],
      "execution_count": null,
      "outputs": []
    },
    {
      "cell_type": "markdown",
      "metadata": {
        "id": "Dn7ztR7fl_Jz"
      },
      "source": [
        "### Salutation\n",
        "Customers of different gender might have different buying behaviour although the difference is very insignificant in this case. Only companies tend to return less, for the rest it is roughly equal.\n",
        "\n",
        "Changed to numerical because the model can't handle strings.\n",
        "\n",
        "Tried to one- hot -encode every categorical feature, didn't change the results at all, so dropped it here and later in code."
      ]
    },
    {
      "cell_type": "code",
      "metadata": {
        "id": "2Msd-yedLCC-"
      },
      "source": [
        "shop[\"salutation\"] = shop[\"salutation\"].astype('category')\n",
        "shop[\"salutation\"] = shop[\"salutation\"].cat.codes"
      ],
      "execution_count": null,
      "outputs": []
    },
    {
      "cell_type": "code",
      "metadata": {
        "id": "3V2KhqBImGwA"
      },
      "source": [
        "# one hot encode\n",
        "#shop = pd.concat([shop,pd.get_dummies(shop['salutation'], prefix='sal')],axis=1) "
      ],
      "execution_count": null,
      "outputs": []
    },
    {
      "cell_type": "markdown",
      "metadata": {
        "id": "u0PnB0VzNMD-"
      },
      "source": [
        "### Size\n",
        "\n",
        "Some sizes of clothes are returned less often then others (e.g. unsized) although the majority have more-less the same amount of 0 and 1 in returnShipment. But because the column is unusable in its original form, the sizes have to be grouped into categories manually."
      ]
    },
    {
      "cell_type": "code",
      "metadata": {
        "id": "vJMhJueWNl5i"
      },
      "source": [
        "# group sizes manually.\n",
        "shop['size_group'] = 'unsized'\n",
        "s = shop['size']\n",
        "\n",
        "shop.loc[((s=='152')|(s=='128')|(s=='104')|(s=='88')|(s=='164')|(s=='176')|(s=='116')|(s=='140')|(s=='96')|(s=='84')|(s=='92')|(s=='90')|(s=='100')|(s=='58')|(s=='76')|(s=='80')|(s=='105')|(s=='110')|(s=='126')|(s=='85')|(s=='95')|(s=='122')|(s== '3432') |(s== '3332')|(s== '3632')|(s== '3434')|(s== '3334')|(s== '3834')|(s== '3634')|(s== '3832')|(s== '4032')|(s== '2932')|(s== '3132')|(s== '4034')),'size_group'] = 'children'\n",
        "shop.loc[((s=='36')|(s=='S')|(s=='37')|(s=='s')|(s=='XS')|(s=='6+')|(s=='5+')|(s=='5')|(s=='7')|(s=='7+')|(s=='6')|(s=='38+')|(s=='32')|(s=='8')|(s=='4+')|(s=='31')|(s=='35')|(s=='33')|(s=='4')|(s=='30')|(s=='36+')|(s=='28') |(s=='34')|(s=='27') |(s=='3')|(s=='3+')|(s=='29')|(s=='2')|(s=='1')|(s=='37+')|(s=='xs')|(s=='2+')),'size_group'] = 'small'\n",
        "shop.loc[((s=='38')|(s=='40')|(s=='l')|(s=='39')|(s=='M')|(s=='42')|(s=='m')|(s=='41')|(s=='L')|(s=='9')|(s=='41+')|(s=='11')|(s=='39+')|(s=='9+')|(s=='10')|(s=='40+')|(s=='10+')|(s=='8+')|(s=='12')|(s=='11+')|(s=='12+')|(s=='38')),'size_group'] = 'medium'\n",
        "shop.loc[((s=='xxl')|(s=='46')|(s=='xl')|(s=='44')|(s=='XXL')|(s=='XL')|(s=='22')|(s=='43')|(s=='48')|(s=='13')|(s=='50')|(s=='21')|(s=='20')|(s=='XXXL')|(s=='24')|(s=='26')|(s=='xxxl')|(s=='25')|(s=='45')|(s=='18')|(s=='23')|(s=='52')|(s=='47')|(s=='19')|(s=='42+')|(s=='43+')|(s=='54')|(s=='56')|(s=='45+')|(s=='14')|(s=='44+')|(s=='46+') |(s=='49')|(s=='13+')),'size_group'] = 'large'          "
      ],
      "execution_count": null,
      "outputs": []
    },
    {
      "cell_type": "code",
      "metadata": {
        "id": "HSLFyMarUnGn",
        "colab": {
          "base_uri": "https://localhost:8080/"
        },
        "outputId": "74f9a710-ce0c-4abe-ccd0-9f8ca4ed725b"
      },
      "source": [
        "shop_grouped_by_size = shop.groupby(['size_group'])['Id'].size().reset_index(name='Amount_of_purchases').sort_values(by=['Amount_of_purchases'], ascending = False)\n",
        "sns.barplot(x = 'size_group', y = 'Amount_of_purchases', data = shop_grouped_by_size  )#, palette=['#202248','steelblue','#fd082d','#53d825','sandybrown', 'indianred', 'gold'])\n",
        "plt.xlabel('Color type')\n",
        "plt.ylabel('Amount of purchases');\n",
        "plt.xticks(rotation=45)\n",
        "plt.title('Customer color preferences');"
      ],
      "execution_count": null,
      "outputs": [
        {
          "output_type": "display_data",
          "data": {
            "image/png": "[encoded data removed]",
            "text/plain": [
              "<Figure size 432x288 with 1 Axes>"
            ]
          },
          "metadata": {
            "tags": []
          }
        }
      ]
    },
    {
      "cell_type": "code",
      "metadata": {
        "id": "z-DGyaYyQLK2"
      },
      "source": [
        "shop[\"size_group\"] = shop[\"size_group\"].astype('category')\n",
        "shop[\"size_group\"] = shop[\"size_group\"].cat.codes"
      ],
      "execution_count": null,
      "outputs": []
    },
    {
      "cell_type": "markdown",
      "metadata": {
        "id": "HE0AZOwV8cmd"
      },
      "source": [
        "### Color\n",
        "\n",
        "Same as for sizes, colors have to be grouped manuually. The proportion of returned and not returned items in each category is almost equal."
      ]
    },
    {
      "cell_type": "code",
      "metadata": {
        "id": "fMjKJzA978s5"
      },
      "source": [
        "# group colors\n",
        "shop.loc[shop['color'] == '?', 'color'] =None\n",
        "shop['color'] = shop['color'].fillna(method='ffill')\n",
        "\n",
        "shop['color_type'] = '?' \n",
        "c = shop['color']\n",
        "shop.loc[((c=='black')|( c=='brown')|( c=='mocca')|( c=='anthracite')|( c=='grey')|( c=='navy')|( c=='habana')|( c=='ash')|( c=='brwon')|( c=='dark garnet')|( c=='dark grey')|( c=='currant purple')|( c=='cognac')|( c=='ebony')|( c=='darkblue')|( c=='basalt')|( c=='mahagoni')|( c=='dark navy')|( c=='dark oliv')|( c=='iron')|( c=='graphite')|( c=='dark denim')), 'color_type'] = 'dark'\n",
        "shop.loc[((c=='ocher' )|( c=='curry')|( c=='beige')|( c=='ecru')|( c=='khaki')|( c=='silver')|( c=='white')|( c=='pallid')|( c=='almond')|( c=='creme')|( c=='champagner')|( c=='cortina mocca')|( c=='champagner')|( c=='apricot')|(c=='opal')|(c=='ingwer')|(c=='vanille')|(c=='perlmutt')|( c=='pallid')|( c=='almond')|( c=='almond')|( c=='ivory')), 'color_type'] = 'light'\n",
        "shop.loc[((c=='red')|( c=='magenta')|( c=='purple')|( c=='pink')|( c=='aubergine')|( c=='orange')|( c=='antique pink')|( c=='copper coin')|( c=='amethyst')|( c=='terracotta')|( c=='amethyst')|( c=='coral')|( c=='crimson')|( c=='bordeaux')|( c=='berry')|( c=='hibiscus')|( c=='fuchsia')),'color_type'] = 'red tone'\n",
        "shop.loc[((c=='denim' )|( c=='petrol')|( c=='blue')|( c=='turquoise')|( c=='navy')|( c=='aqua')|( c=='azure')|( c=='cobalt blue')|( c=='blau')|( c=='baltic blue')|( c=='aquamarine')|( c=='amethyst')|( c=='amethyst')),'color_type'] = 'blue tone'\n",
        "shop.loc[((c=='green' )|( c=='olive')|( c=='avocado')|( c=='jade')|( c=='oliv')|( c=='mint')),'color_type'] = 'green tone'\n",
        "shop.loc[((c=='gold' )|( c=='curry')|( c=='orange')|( c=='caramel')|( c=='copper coin')|( c=='bronze')|( c=='lemon')|( c=='yellow')|( c=='mango')),'color_type'] = 'yellow tone'\n",
        "shop.loc[((c=='nature' )|( c=='stained')|( c=='aviator')|( c=='kanel')|( c=='curled')|( c=='striped')|( c=='leopard')|( c=='floral')|( c=='ancient')),'color_type'] = 'pattern'\n"
      ],
      "execution_count": null,
      "outputs": []
    },
    {
      "cell_type": "code",
      "metadata": {
        "id": "q-W6qp7BjIYh"
      },
      "source": [
        "shop[\"color_type\"] = shop[\"color_type\"].astype('category')\n",
        "shop[\"color_type\"] = shop[\"color_type\"].cat.codes"
      ],
      "execution_count": null,
      "outputs": []
    },
    {
      "cell_type": "markdown",
      "metadata": {
        "id": "xeQG-GyLNd_l"
      },
      "source": [
        "### State\n",
        "\n",
        "Customers in different states display slightly different buying bahoviours."
      ]
    },
    {
      "cell_type": "code",
      "metadata": {
        "id": "6NgBeVrONc9R"
      },
      "source": [
        "shop[\"state\"] = shop[\"state\"].astype('category')\n",
        "shop[\"state\"] = shop[\"state\"].cat.codes"
      ],
      "execution_count": null,
      "outputs": []
    },
    {
      "cell_type": "markdown",
      "metadata": {
        "id": "DZQhdcO7majD"
      },
      "source": [
        "### Percentage of returned (manufacturer)\n",
        "\n",
        "As the test set doesn't have labels but the manfacturer and item id might be important for predictions, the data from the train set is used to generate values which are inserted into the test set.\n",
        "For this the data is grouped by manufacturer and the percentage of returned items is calculated. The higher the number the more often an item has been sent back. For the unseen cases of manfacturer or item id the median is taken."
      ]
    },
    {
      "cell_type": "code",
      "metadata": {
        "id": "5WoG2ejObLOM"
      },
      "source": [
        "shop['sum'] = shop.groupby(['manufacturerID'])['returnShipment'].transform('sum')\n",
        "shop['count'] = shop.groupby(['manufacturerID'])['returnShipment'].transform('count')\n",
        "shop['returned_percent'] = (shop['sum'] / shop['count'] ) *100\n",
        "shop_to_predict['returned_percent'] = shop['returned_percent'].median()#- 10\n",
        "shop_grouped = shop.groupby('manufacturerID')['returned_percent'].min().reset_index(name = \"returned_percent\")\n",
        "\n",
        "for ii in range(len(shop_grouped.index)):\n",
        "  shop_to_predict.loc[shop_to_predict['manufacturerID'] == shop_grouped.loc[ii, 'manufacturerID'], 'returned_percent'] = shop_grouped.loc[ii, 'returned_percent']"
      ],
      "execution_count": null,
      "outputs": []
    },
    {
      "cell_type": "markdown",
      "metadata": {
        "id": "KfzB0oYxD5MT"
      },
      "source": [
        "### Percentage of returned (item)"
      ]
    },
    {
      "cell_type": "code",
      "metadata": {
        "id": "b5K15I1jo1RJ"
      },
      "source": [
        "shop['sum2'] = shop.groupby(['itemID'])['returnShipment'].transform('sum')\n",
        "shop['count2'] = shop.groupby(['itemID'])['returnShipment'].transform('count')\n",
        "shop['returned_percent_item'] = (shop['sum2'] / shop['count2'] ) *100\n",
        "shop_to_predict['returned_percent_item'] = shop['returned_percent_item'].median() # put lower? -10?\n",
        "shop_grouped_item = shop.groupby('itemID')['returned_percent_item'].min().reset_index(name = \"returned_percent_item\")\n",
        "\n",
        "for ii in range(len(shop_grouped.index)):\n",
        "  shop_to_predict.loc[shop_to_predict['itemID'] == shop_grouped_item.loc[ii, 'itemID'], 'returned_percent_item'] = shop_grouped_item.loc[ii, 'returned_percent_item']"
      ],
      "execution_count": null,
      "outputs": []
    },
    {
      "cell_type": "markdown",
      "metadata": {
        "id": "5Ij37_9pFHHB"
      },
      "source": [
        "### Test Model"
      ]
    },
    {
      "cell_type": "code",
      "metadata": {
        "id": "5GmFM3knTPz_"
      },
      "source": [
        "from sklearn.model_selection import train_test_split\n",
        "from sklearn.ensemble import RandomForestClassifier"
      ],
      "execution_count": null,
      "outputs": []
    },
    {
      "cell_type": "code",
      "metadata": {
        "id": "8cA9Yu9uiwkV"
      },
      "source": [
        "#shop_train = shop[['price', 'state', 'Age', 'returned_percent',\t'returned_percent_item', 'duration_days', 'returnShipment',  'salutation', 'itemID', \t'manufacturerID', 'size_group', 'color_type']]"
      ],
      "execution_count": null,
      "outputs": []
    },
    {
      "cell_type": "code",
      "metadata": {
        "id": "tmjZrA0cmM7F"
      },
      "source": [
        "shop_train = shop[['price', 'state', 'Age', 'returned_percent',\t'returned_percent_item', 'duration_days', 'returnShipment',  'salutation', 'itemID', \t'manufacturerID' ]] #afer manual pca"
      ],
      "execution_count": null,
      "outputs": []
    },
    {
      "cell_type": "code",
      "metadata": {
        "id": "V_CP0yOnO5XA"
      },
      "source": [
        "labels = np.array(shop_train.pop('returnShipment')) # put labels in array and remove from dataset"
      ],
      "execution_count": null,
      "outputs": []
    },
    {
      "cell_type": "code",
      "metadata": {
        "id": "UbZQC1sMTPuM"
      },
      "source": [
        "# 1/3 in test data, 2/3 in train data:\n",
        "train, test, train_labels, test_labels = train_test_split(shop_train,labels, stratify = labels,test_size = 0.3, random_state = 50)"
      ],
      "execution_count": null,
      "outputs": []
    },
    {
      "cell_type": "markdown",
      "metadata": {
        "id": "HWky-bM2-a4v"
      },
      "source": [
        "Random forest has been chosen as neither AdaBoost nor a simple neural network gave better results but an ensamble method still has better performance than any other method."
      ]
    },
    {
      "cell_type": "code",
      "metadata": {
        "id": "ASazXkmzThFb"
      },
      "source": [
        "#model = RandomForestClassifier(n_estimators=120, criterion= 'entropy', max_depth = 16 )\n",
        "#criterion, max_depth, min_samples_split, min_samples_leaf, min_weight_fraction_leaf , max_features, max_leaf_nodes, min_impurity_decrease, min_impurity_split.."
      ],
      "execution_count": null,
      "outputs": []
    },
    {
      "cell_type": "code",
      "metadata": {
        "id": "5J_I6T5paCz5"
      },
      "source": [
        "model = RandomForestClassifier(n_estimators=120, criterion= 'gini', max_depth = 16 )\n",
        "#model = RandomForestClassifier(n_estimators=120,criterion= 'entropy', max_depth = 30, min_samples_split = 4, min_samples_leaf = 2, max_features = 'sqrt')"
      ],
      "execution_count": null,
      "outputs": []
    },
    {
      "cell_type": "markdown",
      "metadata": {
        "id": "CKbziaV2Pe1y"
      },
      "source": [
        "Hyperparameters in model are chosen by trying manually. Incresing min_samples_split or min_samples_leaf from default lead to decreased accuracy. 120 n_estimators also seems to be an optimal number as accuracy is lower with 70 and doesn't change with 200. 'Gini' and 'entropy' give similar results. Higher depth leads to overfitting, lower is decresed train and test accuracy."
      ]
    },
    {
      "cell_type": "code",
      "metadata": {
        "id": "hKr_Hw3_TmXp"
      },
      "source": [
        "model.fit(train, train_labels); # fit on training data"
      ],
      "execution_count": null,
      "outputs": []
    },
    {
      "cell_type": "code",
      "metadata": {
        "id": "g_BrwtvhH-o4",
        "colab": {
          "base_uri": "https://localhost:8080/",
          "height": 54
        },
        "outputId": "4ac5b934-4219-49ef-bce9-bc48eedd5b91"
      },
      "source": [
        "threshold = 0.5\n",
        "\n",
        "train_predictions = model.predict_proba(train)\n",
        "test_predictions = model.predict_proba(test)\n",
        "predicted = (train_predictions [:,1] >= threshold).astype('int')\n",
        "predicted_test = (test_predictions [:,1] >= threshold).astype('int')\n",
        "\n",
        "from sklearn.metrics import accuracy_score\n",
        "acc_train = accuracy_score(train_labels, predicted)\n",
        "acc_test = accuracy_score(test_labels, predicted_test)\n",
        "\n",
        "print(f'Train set accuracy: {acc_train}')    \n",
        "print(f'Test set accuracy: {acc_test}')\n",
        "\n",
        "#Train set accuracy: 0.7234076395129672\n",
        "#Test set accuracy: 0.6579110958535522 "
      ],
      "execution_count": null,
      "outputs": [
        {
          "output_type": "stream",
          "text": [
            "Train set accuracy: 0.7341758058230807\n",
            "Test set accuracy: 0.6574471835886397\n"
          ],
          "name": "stdout"
        }
      ]
    },
    {
      "cell_type": "markdown",
      "metadata": {
        "id": "RFoLGpoiP4zJ"
      },
      "source": [
        "Features are chosen after examining their importances. Everything equal lower than 0.01 is removed."
      ]
    },
    {
      "cell_type": "code",
      "metadata": {
        "id": "cXNRF1hMv9Tu",
        "colab": {
          "base_uri": "https://localhost:8080/",
          "height": 202
        },
        "outputId": "22f4d06f-2124-4579-b48e-dc4e812b0d0d"
      },
      "source": [
        "feature_list = list(shop_train.columns)\n",
        "importances = list(model.feature_importances_)\n",
        "feature_importances = [(feature, round(importance, 2)) for feature, importance in zip(feature_list, importances)]\n",
        "feature_importances = sorted(feature_importances, key = lambda x: x[1], reverse = True)\n",
        "\n",
        "[print('Variable: {:20} Importance: {}'.format(*pair)) for pair in feature_importances]"
      ],
      "execution_count": null,
      "outputs": [
        {
          "output_type": "stream",
          "text": [
            "Variable: duration_days        Importance: 0.36\n",
            "Variable: returned_percent_item Importance: 0.24\n",
            "Variable: Age                  Importance: 0.1\n",
            "Variable: price                Importance: 0.08\n",
            "Variable: state                Importance: 0.07\n",
            "Variable: returned_percent     Importance: 0.05\n",
            "Variable: itemID               Importance: 0.05\n",
            "Variable: manufacturerID       Importance: 0.03\n",
            "Variable: salutation           Importance: 0.01\n"
          ],
          "name": "stdout"
        },
        {
          "output_type": "execute_result",
          "data": {
            "text/plain": [
              "[None, None, None, None, None, None, None, None, None]"
            ]
          },
          "metadata": {
            "tags": []
          },
          "execution_count": 27
        }
      ]
    },
    {
      "cell_type": "markdown",
      "metadata": {
        "id": "0pXoZtzLQTSQ"
      },
      "source": [
        "### Features For Model:"
      ]
    },
    {
      "cell_type": "code",
      "metadata": {
        "id": "uPDLAxZZkC_q"
      },
      "source": [
        "shop_to_predict['DeliveryDuration'] = shop_to_predict['DeliveryDuration'].fillna('0 ')\n",
        "shop_to_predict['duration_days'] = shop_to_predict['DeliveryDuration'].str.split(' ').str[0].astype(int, errors = 'ignore')"
      ],
      "execution_count": null,
      "outputs": []
    },
    {
      "cell_type": "code",
      "metadata": {
        "id": "6bKPAx_iQWrI"
      },
      "source": [
        "shop_to_predict['dateOfBirth'] = pd.to_datetime(shop_to_predict['dateOfBirth'], format='%Y-%m-%d'  , errors='coerce')\n",
        "shop_to_predict['dateOfBirth'] = shop_to_predict['dateOfBirth'].fillna(method='ffill')\n",
        "\n",
        "shop_to_predict['Age'] = (pd.to_datetime('today') - shop_to_predict['dateOfBirth']).astype('<m8[Y]')\n",
        "shop_to_predict['Age'] = shop_to_predict['Age'].astype(int)"
      ],
      "execution_count": null,
      "outputs": []
    },
    {
      "cell_type": "code",
      "metadata": {
        "id": "vTwOjLUSQWua"
      },
      "source": [
        "shop_to_predict[\"salutation\"] = shop_to_predict[\"salutation\"].astype('category')\n",
        "shop_to_predict[\"salutation\"] = shop_to_predict[\"salutation\"].cat.codes"
      ],
      "execution_count": null,
      "outputs": []
    },
    {
      "cell_type": "code",
      "metadata": {
        "id": "brvyRnM-QgY6"
      },
      "source": [
        "shop_to_predict['size_group'] = 'unsized'\n",
        "s = shop_to_predict['size']\n",
        "shop_to_predict.loc[((s=='152')|(s=='128')|(s=='104')|(s=='88')|(s=='164')|(s=='176')|(s=='116')|(s=='140')|(s=='96')|(s=='84')|(s=='92')|(s=='90')|(s=='100')|(s=='58')|(s=='76')|(s=='80')|(s=='105')|(s=='110')|(s=='126')|(s=='85')|(s=='95')|(s=='122')|(s== '3432') |(s== '3332')|(s== '3632')|(s== '3434')|(s== '3334')|(s== '3834')|(s== '3634')|(s== '3832')|(s== '4032')|(s== '2932')|(s== '3132')|(s== '4034')),'size_group'] = 'children'\n",
        "shop_to_predict.loc[((s=='36')|(s=='S')|(s=='37')|(s=='s')|(s=='XS')|(s=='6+')|(s=='5+')|(s=='5')|(s=='7')|(s=='7+')|(s=='6')|(s=='38+')|(s=='32')|(s=='8')|(s=='4+')|(s=='31')|(s=='35')|(s=='33')|(s=='4')|(s=='30')|(s=='36+')|(s=='28') |(s=='34')|(s=='27') |(s=='3')|(s=='3+')|(s=='29')|(s=='2')|(s=='1')|(s=='37+')|(s=='xs')|(s=='2+')),'size_group'] = 'small'\n",
        "shop_to_predict.loc[((s=='38')|(s=='40')|(s=='l')|(s=='39')|(s=='M')|(s=='42')|(s=='m')|(s=='41')|(s=='L')|(s=='9')|(s=='41+')|(s=='11')|(s=='39+')|(s=='9+')|(s=='10')|(s=='40+')|(s=='10+')|(s=='8+')|(s=='12')|(s=='11+')|(s=='12+')|(s=='unsized')|(s=='38')),'size_group'] = 'medium'\n",
        "shop_to_predict.loc[((s=='xxl')|(s=='46')|(s=='xl')|(s=='44')|(s=='XXL')|(s=='XL')|(s=='22')|(s=='43')|(s=='48')|(s=='13')|(s=='50')|(s=='21')|(s=='20')|(s=='XXXL')|(s=='24')|(s=='26')|(s=='xxxl')|(s=='25')|(s=='45')|(s=='18')|(s=='23')|(s=='52')|(s=='47')|(s=='19')|(s=='42+')|(s=='43+')|(s=='54')|(s=='56')|(s=='45+')|(s=='14')|(s=='44+')|(s=='46+') |(s=='49')|(s=='13+')),'size_group'] = 'large'          "
      ],
      "execution_count": null,
      "outputs": []
    },
    {
      "cell_type": "code",
      "metadata": {
        "id": "TtJAJLMHQWxX"
      },
      "source": [
        "shop_to_predict[\"size_group\"] = shop_to_predict[\"size_group\"].astype('category')\n",
        "shop_to_predict[\"size_group\"] = shop_to_predict[\"size_group\"].cat.codes"
      ],
      "execution_count": null,
      "outputs": []
    },
    {
      "cell_type": "code",
      "metadata": {
        "id": "NED11mVKQoSB"
      },
      "source": [
        "shop_to_predict[\"state\"] = shop_to_predict[\"state\"].astype('category')\n",
        "shop_to_predict[\"state\"] = shop_to_predict[\"state\"].cat.codes"
      ],
      "execution_count": null,
      "outputs": []
    },
    {
      "cell_type": "markdown",
      "metadata": {
        "id": "sTyeJTAw_yp9"
      },
      "source": [
        "### Model"
      ]
    },
    {
      "cell_type": "code",
      "metadata": {
        "id": "cIxyqnhAnXFh"
      },
      "source": [
        "shop_to_predict_features = shop_to_predict[['price', 'state', 'Age', 'returned_percent',\t'returned_percent_item', 'duration_days',  'salutation', 'itemID', \t'manufacturerID' ]]"
      ],
      "execution_count": null,
      "outputs": []
    },
    {
      "cell_type": "code",
      "metadata": {
        "id": "sHaDUeSij1Ip"
      },
      "source": [
        "#shop_to_predict_features = shop_to_predict[['price', 'state', 'Age', 'returned_percent',\t'returned_percent_item', 'duration_days',  'salutation', 'itemID', \t'manufacturerID', 'size_group', 'color_type' ]]"
      ],
      "execution_count": null,
      "outputs": []
    },
    {
      "cell_type": "code",
      "metadata": {
        "id": "BAUa5slLgW_x",
        "colab": {
          "base_uri": "https://localhost:8080/",
          "height": 35
        },
        "outputId": "a447b051-7b0d-42d2-ab06-2c1f5e28bccd"
      },
      "source": [
        "threshold = 0.5  #preliminary threshold   \n",
        "model.fit(shop_train, labels)\n",
        "train_predictions_ = model.predict_proba(shop_train) # predict on train data    \n",
        "test_predictions_ = model.predict_proba(shop_to_predict_features) # predict on test data\n",
        "\n",
        "predicted_shop_ = (train_predictions_ [:,1] >= threshold).astype('int')\n",
        "predicted_shop_to_predict_ = (test_predictions_ [:,1] >= threshold).astype('int')\n",
        "\n",
        "from sklearn.metrics import accuracy_score\n",
        "acc_train = accuracy_score(labels, predicted_shop_)\n",
        "\n",
        "print(f'Train set accuracy: {acc_train}') "
      ],
      "execution_count": null,
      "outputs": [
        {
          "output_type": "stream",
          "text": [
            "Train set accuracy: 0.7223661905968084\n"
          ],
          "name": "stdout"
        }
      ]
    },
    {
      "cell_type": "code",
      "metadata": {
        "id": "3FWmbWiumN7T"
      },
      "source": [
        "predictions_for_roc = train_predictions_[:, 1]"
      ],
      "execution_count": null,
      "outputs": []
    },
    {
      "cell_type": "code",
      "metadata": {
        "id": "lQPQSBsbkCgB",
        "colab": {
          "base_uri": "https://localhost:8080/",
          "height": 99
        },
        "outputId": "ffc9df5d-a4f5-4509-cdad-ea4a7b2f54f3"
      },
      "source": [
        "# calculate new threshold\n",
        "#following code from: https://stackoverflow.com/questions/28719067/roc-curve-and-cut-off-point-python  on 2020 02 16\n",
        "from sklearn.metrics import roc_curve, auc\n",
        "\n",
        "fpr, tpr, thresholds =roc_curve(y_true = labels, y_score = predictions_for_roc)\n",
        "roc_auc = auc(fpr, tpr)\n",
        "print(\"Area under the ROC curve : %f\" % roc_auc)\n",
        "\n",
        "i = np.arange(len(tpr)) \n",
        "roc = pd.DataFrame({'fpr' : pd.Series(fpr, index=i),'tpr' : pd.Series(tpr, index = i), '1-fpr' : pd.Series(1-fpr, index = i), 'tf' : pd.Series(tpr - (1-fpr), index = i), 'thresholds' : pd.Series(thresholds, index = i)})\n",
        "roc.iloc[(roc.tf-0).abs().argsort()[:1]]\n"
      ],
      "execution_count": null,
      "outputs": [
        {
          "output_type": "stream",
          "text": [
            "Area under the ROC curve : 0.809140\n"
          ],
          "name": "stdout"
        },
        {
          "output_type": "execute_result",
          "data": {
            "text/html": [
              "<div>\n",
              "<style scoped>\n",
              "    .dataframe tbody tr th:only-of-type {\n",
              "        vertical-align: middle;\n",
              "    }\n",
              "\n",
              "    .dataframe tbody tr th {\n",
              "        vertical-align: top;\n",
              "    }\n",
              "\n",
              "    .dataframe thead th {\n",
              "        text-align: right;\n",
              "    }\n",
              "</style>\n",
              "<table border=\"1\" class=\"dataframe\">\n",
              "  <thead>\n",
              "    <tr style=\"text-align: right;\">\n",
              "      <th></th>\n",
              "      <th>fpr</th>\n",
              "      <th>tpr</th>\n",
              "      <th>1-fpr</th>\n",
              "      <th>tf</th>\n",
              "      <th>thresholds</th>\n",
              "    </tr>\n",
              "  </thead>\n",
              "  <tbody>\n",
              "    <tr>\n",
              "      <th>81511</th>\n",
              "      <td>0.277941</td>\n",
              "      <td>0.722055</td>\n",
              "      <td>0.722059</td>\n",
              "      <td>-0.000005</td>\n",
              "      <td>0.531407</td>\n",
              "    </tr>\n",
              "  </tbody>\n",
              "</table>\n",
              "</div>"
            ],
            "text/plain": [
              "            fpr       tpr     1-fpr        tf  thresholds\n",
              "81511  0.277941  0.722055  0.722059 -0.000005    0.531407"
            ]
          },
          "metadata": {
            "tags": []
          },
          "execution_count": 38
        }
      ]
    },
    {
      "cell_type": "code",
      "metadata": {
        "id": "WUMZfdTTnh5-",
        "colab": {
          "base_uri": "https://localhost:8080/",
          "height": 35
        },
        "outputId": "b09849c9-c886-4910-ae62-cba5c6b6b006"
      },
      "source": [
        "threshold = 0.52 # changed according to auc\n",
        "\n",
        "predicted_shop_ = (train_predictions_ [:,1] >= threshold).astype('int')\n",
        "predicted_shop_to_predict_ = (test_predictions_ [:,1] >= threshold).astype('int')\n",
        "\n",
        "acc_train = accuracy_score(labels, predicted_shop_)\n",
        "print(f'Train set accuracy: {acc_train}') "
      ],
      "execution_count": null,
      "outputs": [
        {
          "output_type": "stream",
          "text": [
            "Train set accuracy: 0.7231511352470766\n"
          ],
          "name": "stdout"
        }
      ]
    },
    {
      "cell_type": "code",
      "metadata": {
        "id": "g4JtZ86-pKBo"
      },
      "source": [
        "shop_to_predict['returnShipment'] = predicted_shop_to_predict_\n",
        "shop_predictions = shop_to_predict[['Id','returnShipment']]\n",
        "shop_predictions = shop_predictions.rename(columns= {'Id' : 'Id (String)'})"
      ],
      "execution_count": null,
      "outputs": []
    },
    {
      "cell_type": "code",
      "metadata": {
        "id": "ntvJCXgjP_Mv"
      },
      "source": [
        "export_csv = shop_predictions.to_csv(r'/content/drive/My Drive/31-M29/export_prediction11.csv', header = True, index=False)"
      ],
      "execution_count": null,
      "outputs": []
    }
  ]
}